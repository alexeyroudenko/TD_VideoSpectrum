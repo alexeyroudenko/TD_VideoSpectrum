{
 "cells": [
  {
   "cell_type": "markdown",
   "metadata": {
    "collapsed": false
   },
   "source": [
    "# Generative parameters"
   ]
  },
  {
   "cell_type": "code",
   "execution_count": null,
   "metadata": {
    "ExecuteTime": {
     "end_time": "2023-08-02T07:56:15.224923Z",
     "start_time": "2023-08-02T07:56:14.680921Z"
    },
    "collapsed": false
   },
   "outputs": [],
   "source": [
    "#import os\n",
    "#os.chdir(\"D:/YandexDisk/Collab/Projects/2023-03_Spectrum/Projects/GenerativeParameters/generative_approach/\")\n",
    "\n",
    "import torch\n",
    "import torch.nn as nn\n",
    "import numpy as np\n",
    "\n",
    "checkpoint = torch.load('generative_approach.model')\n",
    "\n",
    "class SpectrumEncoder(nn.Module):\n",
    "    def __init__(self):\n",
    "        super().__init__()\n",
    "        self.hidden1 = nn.Linear(64, 128)\n",
    "        self.act1 = nn.ReLU()\n",
    "        self.hidden2 = nn.Linear(128, 96)\n",
    "        self.act2 = nn.ReLU()\n",
    "        self.output = nn.Linear(96, 4)\n",
    "        self.act_output = nn.Sigmoid()\n",
    "\n",
    "    def forward(self, x):\n",
    "        x = self.act1(self.hidden1(x))\n",
    "        x = self.act2(self.hidden2(x))\n",
    "        x = self.act_output(self.output(x))\n",
    "        return x\n",
    "\n",
    "model = SpectrumEncoder()\n",
    "\n",
    "model.load_state_dict(checkpoint)\n",
    "model.eval()\n",
    "\n",
    "for i in range(100):\n",
    "    v = np.random.randn(1, 64)\n",
    "    print(v.shape)\n",
    "    value = torch.tensor(v, dtype=torch.float32)\n",
    "    res = model.forward(value)\n",
    "    print('%s' % (res[0].tolist()))"
   ]
  },
  {
   "cell_type": "markdown",
   "metadata": {
    "collapsed": false
   },
   "source": []
  }
 ],
 "metadata": {
  "accelerator": "GPU",
  "colab": {
   "collapsed_sections": [],
   "name": "inference_playground (5).ipynb",
   "provenance": []
  },
  "kernelspec": {
   "display_name": "Python 3",
   "language": "python",
   "name": "python3"
  },
  "language_info": {
   "codemirror_mode": {
    "name": "ipython",
    "version": 3
   },
   "file_extension": ".py",
   "mimetype": "text/x-python",
   "name": "python",
   "nbconvert_exporter": "python",
   "pygments_lexer": "ipython3",
   "version": "3.11.1"
  }
 },
 "nbformat": 4,
 "nbformat_minor": 1
}
